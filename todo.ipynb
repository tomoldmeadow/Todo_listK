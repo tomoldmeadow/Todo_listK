{
 "cells": [
  {
   "cell_type": "code",
   "execution_count": 1,
   "id": "245d6d8d",
   "metadata": {},
   "outputs": [
    {
     "name": "stdout",
     "output_type": "stream",
     "text": [
      "1. Add Task\n",
      "2. View Tasks\n",
      "3. Mark Task as Done\n",
      "4. Exit\n",
      "==================================================\n",
      "Tasks:\n",
      "1. Add Task\n",
      "2. View Tasks\n",
      "3. Mark Task as Done\n",
      "4. Exit\n",
      "==================================================\n",
      "Exiting.\n",
      "--------------------------------------------------\n"
     ]
    },
    {
     "data": {
      "text/plain": [
       "[]"
      ]
     },
     "execution_count": 1,
     "metadata": {},
     "output_type": "execute_result"
    }
   ],
   "source": [
    "\"\"\"\n",
    "An application that allows users to manage a simple todo list.\n",
    "\"\"\"\n",
    "\n",
    "from typing import Optional\n",
    "from todo_subpackage.add_task import add_task\n",
    "from todo_subpackage.view_task import view_task\n",
    "from todo_subpackage.mark_as_done import mark_as_done\n",
    "\n",
    "\n",
    "def todo(listo: Optional[list] = None) -> list:\n",
    "    \"\"\"\n",
    "    A simple todo list application that allows users to add tasks, \n",
    "    view tasks, mark tasks as done, and exit the application.\n",
    "\n",
    "    Args:\n",
    "        listo (list, optional): A list of tasks. Defaults to an empty list.\n",
    "\n",
    "    Returns:\n",
    "        None: The function modifies the list in place and does not return anything.\n",
    "    \"\"\"\n",
    "\n",
    "    while True:\n",
    "        print(\"1. Add Task\")\n",
    "        print(\"2. View Tasks\")\n",
    "        print(\"3. Mark Task as Done\")\n",
    "        print(\"4. Exit\")\n",
    "        print(\"=\"*50)\n",
    "        x = input(\"Enter your choice: \")\n",
    "        if x == '1':\n",
    "            add_task(listo)\n",
    "        elif x == '2':\n",
    "            view_task(listo)\n",
    "        elif x == '3':\n",
    "            mark_as_done(listo)\n",
    "        elif x == '4':\n",
    "            print(\"Exiting.\")\n",
    "            print(\"-\"*50)\n",
    "            break\n",
    "        else:\n",
    "            print(\"Invalid choice.\")\n",
    "            print(\"-\"*50)\n",
    "\n",
    "    return listo\n",
    "\n",
    "todo([])\n"
   ]
  }
 ],
 "metadata": {
  "kernelspec": {
   "display_name": "todo_env",
   "language": "python",
   "name": "python3"
  },
  "language_info": {
   "codemirror_mode": {
    "name": "ipython",
    "version": 3
   },
   "file_extension": ".py",
   "mimetype": "text/x-python",
   "name": "python",
   "nbconvert_exporter": "python",
   "pygments_lexer": "ipython3",
   "version": "3.12.9"
  }
 },
 "nbformat": 4,
 "nbformat_minor": 5
}
